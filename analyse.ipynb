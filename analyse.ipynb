{
 "cells": [
  {
   "cell_type": "code",
   "execution_count": 11,
   "metadata": {},
   "outputs": [],
   "source": [
    "from transformers import AutoModelForSeq2SeqLM, T5TokenizerFast\n",
    "import nltk.data\n",
    "\n",
    "MODEL_NAME = 'UrukHan/t5-russian-spell'\n",
    "MAX_INPUT = 256\n",
    "\n",
    "def split_sentences(text):\n",
    "    tokenizer = nltk.data.load('tokenizers/punkt/russian.pickle')\n",
    "    return tokenizer.tokenize(text)\n",
    "\n",
    "def correction(seq):\n",
    "    model = AutoModelForSeq2SeqLM.from_pretrained(MODEL_NAME)\n",
    "    tokenizer = T5TokenizerFast.from_pretrained(MODEL_NAME)\n",
    "    sequences_list = split_sentences(seq)\n",
    "    task = [f\"Spell correct: {sequence}\" for sequence in sequences_list]\n",
    "    tensors = tokenizer(task, padding=\"longest\", max_length=256, truncation=True, return_tensors=\"pt\")\n",
    "    output = model.generate(**tensors)\n",
    "    return tokenizer.batch_decode(output, skip_special_tokens=True)  \n",
    "\n",
    "import difflib, re\n",
    "\n",
    "def compare_strings(input_, output):\n",
    "    words_with_errors = []\n",
    "    punctuation_added = []\n",
    "    punctuation_remooved = []\n",
    "\n",
    "    input_arr = re.findall(r\"\\b\\w+\\b\", input_)\n",
    "    output_arr = re.findall(r\"\\b\\w+\\b\", output)\n",
    "\n",
    "    input_idx = 0\n",
    "    for word in difflib.ndiff(input_arr, output_arr):\n",
    "        if word[0] != \"+\" and word[0] != \"?\":\n",
    "            if word[0] == \"-\":\n",
    "                words_with_errors.append((input_idx, word[2:]))\n",
    "            input_idx += 1\n",
    "    for idx, symbol in enumerate(difflib.ndiff(input_, output)):\n",
    "        if symbol[0] == \"-\" and not symbol[2].isalnum() and not symbol[2] == \" \":\n",
    "            punctuation_remooved.append((idx, symbol[2]))\n",
    "        if symbol[0] == \"+\" and not symbol[2].isalnum() and not symbol[2] == \" \":\n",
    "            punctuation_added.append((idx, symbol[2]))\n",
    "\n",
    "    output_args = [', '.join([f'{x[1]}' for x in words_with_errors]), ' | '.join([f'{x[1]}' for x in punctuation_added]),\n",
    "                   ', '.join([f'{x[0]}' for x in punctuation_added]), ' | '.join([f'{x[1]}' for x in punctuation_remooved]),\n",
    "                   ', '.join([f'{x[0]}' for x in punctuation_remooved])]\n",
    "\n",
    "    return (f'Орфографические ошибки в словах: {output_args[0]}.', \n",
    "            f'Пропущены знаки: \"{output_args[1]}\" на позициях под номерами: {output_args[2]}.',\n",
    "            f'Лишние знаки:  \"{output_args[3]}\" на позициях под номерами: {output_args[4]}.')"
   ]
  },
  {
   "cell_type": "code",
   "execution_count": 12,
   "metadata": {},
   "outputs": [
    {
     "name": "stdout",
     "output_type": "stream",
     "text": [
      "Исправленное предложение:  Я пришел к тебе с приветом - рассказать, что солнце встало. \n",
      "\n",
      "Орфографические ошибки в словах: прешол, тибе, преветом, сллнце. \n",
      "\n",
      "Пропущены знаки: \", | .\" на позициях под номерами: 43, 63. \n",
      "\n",
      "Лишние знаки:  \"\" на позициях под номерами: . \n",
      "\n"
     ]
    }
   ],
   "source": [
    "print('Исправленное предложение: ',  correction('Я прешол к тибе с преветом - рассказать что солнца встало')[0], '\\n')\n",
    "for i in compare_strings('Я прешол к тибе с преветом - рассказать что сллнце встало', \n",
    "                         correction('Я прешол к тибе с преветом - рассказать что сллнце встало')[0]):\n",
    "    \n",
    "    print(i, '\\n')"
   ]
  },
  {
   "cell_type": "markdown",
   "metadata": {},
   "source": []
  }
 ],
 "metadata": {
  "kernelspec": {
   "display_name": "Paint_Python-L3CDz7Eb",
   "language": "python",
   "name": "python3"
  },
  "language_info": {
   "codemirror_mode": {
    "name": "ipython",
    "version": 3
   },
   "file_extension": ".py",
   "mimetype": "text/x-python",
   "name": "python",
   "nbconvert_exporter": "python",
   "pygments_lexer": "ipython3",
   "version": "3.11.5"
  }
 },
 "nbformat": 4,
 "nbformat_minor": 2
}
